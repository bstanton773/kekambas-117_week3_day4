{
 "cells": [
  {
   "cell_type": "code",
   "execution_count": 1,
   "id": "4e7de3e2",
   "metadata": {},
   "outputs": [],
   "source": [
    "class User:\n",
    "    id_counter = 1\n",
    "\n",
    "    def __init__(self, username, password):\n",
    "        self.username = username\n",
    "        self.password = password[::-2] # Fake hashing\n",
    "        self.id = User.id_counter\n",
    "        User.id_counter += 1\n",
    "\n",
    "    def __str__(self):\n",
    "        return self.username\n",
    "    \n",
    "    def __repr__(self):\n",
    "        return f\"<User {self.id}|{self.username}>\"\n",
    "\n",
    "    def check_password(self, password_guess): # will return True if passwords match, False otherwise\n",
    "        return self.password == password_guess[::-2]\n",
    "\n",
    "\n",
    "class Post:\n",
    "    id_counter = 1\n",
    "    \n",
    "    def __init__(self, title, body, author):\n",
    "        self.title = title\n",
    "        self.body = body\n",
    "        self.author = author\n",
    "        self.id = Post.id_counter\n",
    "        Post.id_counter += 1\n",
    "\n",
    "    def __repr__(self):\n",
    "        return f\"<Post {self.id}|{self.title}>\"\n",
    "    \n",
    "    def __str__(self):\n",
    "        formatted_post = f\"\"\"\n",
    "        {self.id} - {self.title.title()}\n",
    "        By: {self.author}\n",
    "        {self.body}\n",
    "        \"\"\"\n",
    "        return formatted_post"
   ]
  },
  {
   "cell_type": "code",
   "execution_count": 2,
   "id": "220814c4",
   "metadata": {},
   "outputs": [],
   "source": [
    "user1 = User('brians', 'abc123')\n",
    "user2 = User('kevinb', 'cba321')"
   ]
  },
  {
   "cell_type": "code",
   "execution_count": 3,
   "id": "67496228",
   "metadata": {},
   "outputs": [],
   "source": [
    "post1 = Post('First Post', 'This is the body of my first post and it is a really well thought out sentence.', user1)"
   ]
  },
  {
   "cell_type": "code",
   "execution_count": 4,
   "id": "a811eba5",
   "metadata": {},
   "outputs": [
    {
     "data": {
      "text/plain": [
       "<Post 1|First Post>"
      ]
     },
     "execution_count": 4,
     "metadata": {},
     "output_type": "execute_result"
    }
   ],
   "source": [
    "post1"
   ]
  },
  {
   "cell_type": "code",
   "execution_count": 5,
   "id": "47a21add",
   "metadata": {},
   "outputs": [
    {
     "name": "stdout",
     "output_type": "stream",
     "text": [
      "\n",
      "        1 - First Post\n",
      "        By: brians\n",
      "        This is the body of my first post and it is a really well thought out sentence.\n",
      "        \n"
     ]
    }
   ],
   "source": [
    "print(post1)"
   ]
  },
  {
   "cell_type": "code",
   "execution_count": 10,
   "id": "158e785a",
   "metadata": {},
   "outputs": [
    {
     "data": {
      "text/plain": [
       "<User 1|brians>"
      ]
     },
     "execution_count": 10,
     "metadata": {},
     "output_type": "execute_result"
    }
   ],
   "source": [
    "post1.author"
   ]
  },
  {
   "cell_type": "code",
   "execution_count": 12,
   "id": "78ec2468",
   "metadata": {},
   "outputs": [
    {
     "data": {
      "text/plain": [
       "<Post 1|My Super Awesome Post>"
      ]
     },
     "execution_count": 12,
     "metadata": {},
     "output_type": "execute_result"
    }
   ],
   "source": [
    "post1.title = 'My Super Awesome Post'\n",
    "post1"
   ]
  },
  {
   "cell_type": "code",
   "execution_count": 17,
   "id": "00e51d60",
   "metadata": {},
   "outputs": [],
   "source": [
    "post1.body = 'This is the updated post body'"
   ]
  },
  {
   "cell_type": "code",
   "execution_count": 18,
   "id": "17e7ae7f",
   "metadata": {},
   "outputs": [
    {
     "name": "stdout",
     "output_type": "stream",
     "text": [
      "\n",
      "        1 - My Super Awesome Post\n",
      "        By: brians\n",
      "        This is the updated post body\n",
      "        \n"
     ]
    }
   ],
   "source": [
    "print(post1)"
   ]
  },
  {
   "cell_type": "code",
   "execution_count": 22,
   "id": "b0e2504c",
   "metadata": {},
   "outputs": [
    {
     "data": {
      "text/plain": [
       "True"
      ]
     },
     "execution_count": 22,
     "metadata": {},
     "output_type": "execute_result"
    }
   ],
   "source": [
    "post1.author == user1"
   ]
  },
  {
   "cell_type": "code",
   "execution_count": null,
   "id": "12b18b19",
   "metadata": {},
   "outputs": [],
   "source": [
    "    user = User('brians', 'abc123')\n",
    "    my_blog.users.add(user)\n",
    "    post = Post('Bootstrapped', 'This was made before anything else as test', user)\n",
    "    my_blog.posts.append(post)"
   ]
  }
 ],
 "metadata": {
  "kernelspec": {
   "display_name": "Python 3 (ipykernel)",
   "language": "python",
   "name": "python3"
  },
  "language_info": {
   "codemirror_mode": {
    "name": "ipython",
    "version": 3
   },
   "file_extension": ".py",
   "mimetype": "text/x-python",
   "name": "python",
   "nbconvert_exporter": "python",
   "pygments_lexer": "ipython3",
   "version": "3.10.9"
  }
 },
 "nbformat": 4,
 "nbformat_minor": 5
}
